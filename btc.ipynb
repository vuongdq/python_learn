{
 "cells": [
  {
   "cell_type": "markdown",
   "id": "3c2ed213",
   "metadata": {},
   "source": [
    "# Introduction to Matplotlib"
   ]
  },
  {
   "cell_type": "code",
   "execution_count": 2,
   "id": "92a187e3",
   "metadata": {},
   "outputs": [],
   "source": [
    "import pandas as pd\n",
    "import numpy as np\n",
    "import matplotlib.pyplot as plt"
   ]
  },
  {
   "cell_type": "code",
   "execution_count": 3,
   "id": "546b012d",
   "metadata": {},
   "outputs": [],
   "source": [
    "plt.style.available\n",
    "plt.style.use('seaborn-whitegrid')"
   ]
  },
  {
   "cell_type": "code",
   "execution_count": 4,
   "id": "e01af097",
   "metadata": {
    "scrolled": true
   },
   "outputs": [
    {
     "data": {
      "image/png": "[encoded data removed]",
      "text/plain": [
       "<Figure size 432x288 with 1 Axes>"
      ]
     },
     "metadata": {
      "needs_background": "light"
     },
     "output_type": "display_data"
    }
   ],
   "source": [
    "plt.plot();"
   ]
  },
  {
   "cell_type": "code",
   "execution_count": 6,
   "id": "7aac9b24",
   "metadata": {},
   "outputs": [
    {
     "data": {
      "text/html": [
       "<div>\n",
       "<style scoped>\n",
       "    .dataframe tbody tr th:only-of-type {\n",
       "        vertical-align: middle;\n",
       "    }\n",
       "\n",
       "    .dataframe tbody tr th {\n",
       "        vertical-align: top;\n",
       "    }\n",
       "\n",
       "    .dataframe thead th {\n",
       "        text-align: right;\n",
       "    }\n",
       "</style>\n",
       "<table border=\"1\" class=\"dataframe\">\n",
       "  <thead>\n",
       "    <tr style=\"text-align: right;\">\n",
       "      <th></th>\n",
       "      <th>unix</th>\n",
       "      <th>date</th>\n",
       "      <th>symbol</th>\n",
       "      <th>open</th>\n",
       "      <th>high</th>\n",
       "      <th>low</th>\n",
       "      <th>close</th>\n",
       "      <th>Volume BTC</th>\n",
       "      <th>Volume USD</th>\n",
       "    </tr>\n",
       "  </thead>\n",
       "  <tbody>\n",
       "    <tr>\n",
       "      <th>0</th>\n",
       "      <td>1657266240</td>\n",
       "      <td>2022-07-08 07:44:00</td>\n",
       "      <td>BTC/USD</td>\n",
       "      <td>21809.04</td>\n",
       "      <td>21809.64</td>\n",
       "      <td>21809.04</td>\n",
       "      <td>21809.64</td>\n",
       "      <td>1.093656</td>\n",
       "      <td>23852.240809</td>\n",
       "    </tr>\n",
       "    <tr>\n",
       "      <th>1</th>\n",
       "      <td>1657266180</td>\n",
       "      <td>2022-07-08 07:43:00</td>\n",
       "      <td>BTC/USD</td>\n",
       "      <td>21805.00</td>\n",
       "      <td>21810.74</td>\n",
       "      <td>21805.00</td>\n",
       "      <td>21810.74</td>\n",
       "      <td>0.283317</td>\n",
       "      <td>6179.360404</td>\n",
       "    </tr>\n",
       "    <tr>\n",
       "      <th>2</th>\n",
       "      <td>1657266120</td>\n",
       "      <td>2022-07-08 07:42:00</td>\n",
       "      <td>BTC/USD</td>\n",
       "      <td>21805.33</td>\n",
       "      <td>21810.26</td>\n",
       "      <td>21805.33</td>\n",
       "      <td>21810.24</td>\n",
       "      <td>0.863268</td>\n",
       "      <td>18828.084445</td>\n",
       "    </tr>\n",
       "    <tr>\n",
       "      <th>3</th>\n",
       "      <td>1657266060</td>\n",
       "      <td>2022-07-08 07:41:00</td>\n",
       "      <td>BTC/USD</td>\n",
       "      <td>21815.93</td>\n",
       "      <td>21819.54</td>\n",
       "      <td>21797.89</td>\n",
       "      <td>21819.54</td>\n",
       "      <td>0.159521</td>\n",
       "      <td>3480.677677</td>\n",
       "    </tr>\n",
       "    <tr>\n",
       "      <th>4</th>\n",
       "      <td>1657266000</td>\n",
       "      <td>2022-07-08 07:40:00</td>\n",
       "      <td>BTC/USD</td>\n",
       "      <td>21821.74</td>\n",
       "      <td>21821.74</td>\n",
       "      <td>21807.69</td>\n",
       "      <td>21807.69</td>\n",
       "      <td>0.149416</td>\n",
       "      <td>3258.424569</td>\n",
       "    </tr>\n",
       "  </tbody>\n",
       "</table>\n",
       "</div>"
      ],
      "text/plain": [
       "         unix                 date   symbol      open      high       low  \\\n",
       "0  1657266240  2022-07-08 07:44:00  BTC/USD  21809.04  21809.64  21809.04   \n",
       "1  1657266180  2022-07-08 07:43:00  BTC/USD  21805.00  21810.74  21805.00   \n",
       "2  1657266120  2022-07-08 07:42:00  BTC/USD  21805.33  21810.26  21805.33   \n",
       "3  1657266060  2022-07-08 07:41:00  BTC/USD  21815.93  21819.54  21797.89   \n",
       "4  1657266000  2022-07-08 07:40:00  BTC/USD  21821.74  21821.74  21807.69   \n",
       "\n",
       "      close  Volume BTC    Volume USD  \n",
       "0  21809.64    1.093656  23852.240809  \n",
       "1  21810.74    0.283317   6179.360404  \n",
       "2  21810.24    0.863268  18828.084445  \n",
       "3  21819.54    0.159521   3480.677677  \n",
       "4  21807.69    0.149416   3258.424569  "
      ]
     },
     "execution_count": 6,
     "metadata": {},
     "output_type": "execute_result"
    }
   ],
   "source": [
    "btc = pd.read_csv(\"bitstam.csv\")\n",
    "btc.head()"
   ]
  },
  {
   "cell_type": "code",
   "execution_count": null,
   "id": "5bd79a12",
   "metadata": {
    "scrolled": true
   },
   "outputs": [],
   "source": [
    "closeBTC, dateBTC =btc['close'], btc['date']"
   ]
  },
  {
   "cell_type": "code",
   "execution_count": null,
   "id": "310e59fb",
   "metadata": {},
   "outputs": [
    {
     "data": {
      "text/plain": [
       "[<matplotlib.lines.Line2D at 0x213d7479780>]"
      ]
     },
     "execution_count": 9,
     "metadata": {},
     "output_type": "execute_result"
    }
   ],
   "source": [
    "plt.plot(dateBTC[:1000],closeBTC[:1000])"
   ]
  },
  {
   "cell_type": "code",
   "execution_count": null,
   "id": "8bdfaa16",
   "metadata": {},
   "outputs": [],
   "source": []
  }
 ],
 "metadata": {
  "kernelspec": {
   "display_name": "Python 3 (ipykernel)",
   "language": "python",
   "name": "python3"
  },
  "language_info": {
   "codemirror_mode": {
    "name": "ipython",
    "version": 3
   },
   "file_extension": ".py",
   "mimetype": "text/x-python",
   "name": "python",
   "nbconvert_exporter": "python",
   "pygments_lexer": "ipython3",
   "version": "3.10.5"
  }
 },
 "nbformat": 4,
 "nbformat_minor": 5
}
