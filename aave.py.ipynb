{
 "cells": [
  {
   "cell_type": "markdown",
   "id": "3c2ed213",
   "metadata": {},
   "source": [
    "# Introduction to Matplotlib"
   ]
  },
  {
   "cell_type": "code",
   "execution_count": 11,
   "id": "92a187e3",
   "metadata": {},
   "outputs": [],
   "source": [
    "import pandas as pd\n",
    "import numpy as np\n",
    "import matplotlib.pyplot as plt"
   ]
  },
  {
   "cell_type": "code",
   "execution_count": 19,
   "id": "546b012d",
   "metadata": {},
   "outputs": [],
   "source": [
    "plt.style.available\n",
    "plt.style.use('seaborn-whitegrid')"
   ]
  },
  {
   "cell_type": "code",
   "execution_count": 20,
   "id": "e01af097",
   "metadata": {
    "scrolled": true
   },
   "outputs": [
    {
     "data": {
      "image/png": "[encoded data removed]",
      "text/plain": [
       "<Figure size 432x288 with 1 Axes>"
      ]
     },
     "metadata": {},
     "output_type": "display_data"
    }
   ],
   "source": [
    "plt.plot();"
   ]
  },
  {
   "cell_type": "code",
   "execution_count": 21,
   "id": "bfa01496",
   "metadata": {},
   "outputs": [
    {
     "data": {
      "text/plain": [
       "[<matplotlib.lines.Line2D at 0x1d80008c2b0>]"
      ]
     },
     "execution_count": 21,
     "metadata": {},
     "output_type": "execute_result"
    },
    {
     "data": {
      "image/png": "[encoded data removed]",
      "text/plain": [
       "<Figure size 432x288 with 1 Axes>"
      ]
     },
     "metadata": {},
     "output_type": "display_data"
    }
   ],
   "source": [
    "x = [1,2,3,4,6,7]\n",
    "y = [10,21,33,34,16,17]\n",
    "plt.plot(x,y,color=\"red\")"
   ]
  },
  {
   "cell_type": "code",
   "execution_count": 22,
   "id": "7aac9b24",
   "metadata": {},
   "outputs": [
    {
     "data": {
      "text/html": [
       "<div>\n",
       "<style scoped>\n",
       "    .dataframe tbody tr th:only-of-type {\n",
       "        vertical-align: middle;\n",
       "    }\n",
       "\n",
       "    .dataframe tbody tr th {\n",
       "        vertical-align: top;\n",
       "    }\n",
       "\n",
       "    .dataframe thead th {\n",
       "        text-align: right;\n",
       "    }\n",
       "</style>\n",
       "<table border=\"1\" class=\"dataframe\">\n",
       "  <thead>\n",
       "    <tr style=\"text-align: right;\">\n",
       "      <th></th>\n",
       "      <th>unix</th>\n",
       "      <th>date</th>\n",
       "      <th>symbol</th>\n",
       "      <th>open</th>\n",
       "      <th>high</th>\n",
       "      <th>low</th>\n",
       "      <th>close</th>\n",
       "      <th>Volume AAVE</th>\n",
       "      <th>Volume BTC</th>\n",
       "    </tr>\n",
       "  </thead>\n",
       "  <tbody>\n",
       "    <tr>\n",
       "      <th>0</th>\n",
       "      <td>1657238400</td>\n",
       "      <td>7/8/2022 0:00</td>\n",
       "      <td>AAVE/BTC</td>\n",
       "      <td>0.003234</td>\n",
       "      <td>0.003234</td>\n",
       "      <td>0.003234</td>\n",
       "      <td>0.003234</td>\n",
       "      <td>0.000000</td>\n",
       "      <td>0.000000</td>\n",
       "    </tr>\n",
       "    <tr>\n",
       "      <th>1</th>\n",
       "      <td>1657152000</td>\n",
       "      <td>7/7/2022 0:00</td>\n",
       "      <td>AAVE/BTC</td>\n",
       "      <td>0.003069</td>\n",
       "      <td>0.003420</td>\n",
       "      <td>0.003069</td>\n",
       "      <td>0.003234</td>\n",
       "      <td>30.083608</td>\n",
       "      <td>0.097293</td>\n",
       "    </tr>\n",
       "    <tr>\n",
       "      <th>2</th>\n",
       "      <td>1657065600</td>\n",
       "      <td>7/6/2022 0:00</td>\n",
       "      <td>AAVE/BTC</td>\n",
       "      <td>0.003019</td>\n",
       "      <td>0.003097</td>\n",
       "      <td>0.003019</td>\n",
       "      <td>0.003067</td>\n",
       "      <td>451.083559</td>\n",
       "      <td>1.383342</td>\n",
       "    </tr>\n",
       "    <tr>\n",
       "      <th>3</th>\n",
       "      <td>1656979200</td>\n",
       "      <td>7/5/2022 0:00</td>\n",
       "      <td>AAVE/BTC</td>\n",
       "      <td>0.003115</td>\n",
       "      <td>0.003115</td>\n",
       "      <td>0.002998</td>\n",
       "      <td>0.003029</td>\n",
       "      <td>290.577425</td>\n",
       "      <td>0.880115</td>\n",
       "    </tr>\n",
       "    <tr>\n",
       "      <th>4</th>\n",
       "      <td>1656892800</td>\n",
       "      <td>7/4/2022 0:00</td>\n",
       "      <td>AAVE/BTC</td>\n",
       "      <td>0.002985</td>\n",
       "      <td>0.003089</td>\n",
       "      <td>0.002967</td>\n",
       "      <td>0.003084</td>\n",
       "      <td>332.753678</td>\n",
       "      <td>1.026345</td>\n",
       "    </tr>\n",
       "  </tbody>\n",
       "</table>\n",
       "</div>"
      ],
      "text/plain": [
       "         unix           date    symbol      open      high       low  \\\n",
       "0  1657238400  7/8/2022 0:00  AAVE/BTC  0.003234  0.003234  0.003234   \n",
       "1  1657152000  7/7/2022 0:00  AAVE/BTC  0.003069  0.003420  0.003069   \n",
       "2  1657065600  7/6/2022 0:00  AAVE/BTC  0.003019  0.003097  0.003019   \n",
       "3  1656979200  7/5/2022 0:00  AAVE/BTC  0.003115  0.003115  0.002998   \n",
       "4  1656892800  7/4/2022 0:00  AAVE/BTC  0.002985  0.003089  0.002967   \n",
       "\n",
       "      close  Volume AAVE  Volume BTC  \n",
       "0  0.003234     0.000000    0.000000  \n",
       "1  0.003234    30.083608    0.097293  \n",
       "2  0.003067   451.083559    1.383342  \n",
       "3  0.003029   290.577425    0.880115  \n",
       "4  0.003084   332.753678    1.026345  "
      ]
     },
     "execution_count": 22,
     "metadata": {},
     "output_type": "execute_result"
    }
   ],
   "source": [
    "aave = pd.read_csv(\"test.csv\")\n",
    "aave.head()"
   ]
  },
  {
   "cell_type": "code",
   "execution_count": 24,
   "id": "5bd79a12",
   "metadata": {},
   "outputs": [
    {
     "data": {
      "text/plain": [
       "0    0.003234\n",
       "1    0.003234\n",
       "2    0.003067\n",
       "3    0.003029\n",
       "4    0.003084\n",
       "5    0.002996\n",
       "6    0.003012\n",
       "7    0.002940\n",
       "8    0.002882\n",
       "9    0.002975\n",
       "Name: close, dtype: float64"
      ]
     },
     "execution_count": 24,
     "metadata": {},
     "output_type": "execute_result"
    }
   ],
   "source": [
    "close, dateTime =aave['close'], aave['date']\n",
    "close[:10]"
   ]
  },
  {
   "cell_type": "code",
   "execution_count": 26,
   "id": "daea5e66",
   "metadata": {},
   "outputs": [
    {
     "data": {
      "text/plain": [
       "0    7/8/2022 0:00\n",
       "1    7/7/2022 0:00\n",
       "2    7/6/2022 0:00\n",
       "Name: date, dtype: object"
      ]
     },
     "execution_count": 26,
     "metadata": {},
     "output_type": "execute_result"
    }
   ],
   "source": [
    "dateTime[:3]"
   ]
  },
  {
   "cell_type": "code",
   "execution_count": 27,
   "id": "310e59fb",
   "metadata": {},
   "outputs": [
    {
     "data": {
      "text/plain": [
       "[<matplotlib.lines.Line2D at 0x1d80013d4e0>]"
      ]
     },
     "execution_count": 27,
     "metadata": {},
     "output_type": "execute_result"
    },
    {
     "data": {
      "image/png": "[encoded data removed]",
      "text/plain": [
       "<Figure size 432x288 with 1 Axes>"
      ]
     },
     "metadata": {},
     "output_type": "display_data"
    }
   ],
   "source": [
    "plt.plot(dateTime,close)"
   ]
  },
  {
   "cell_type": "code",
   "execution_count": null,
   "id": "29d7a954",
   "metadata": {},
   "outputs": [],
   "source": []
  }
 ],
 "metadata": {
  "kernelspec": {
   "display_name": "Python 3 (ipykernel)",
   "language": "python",
   "name": "python3"
  },
  "language_info": {
   "codemirror_mode": {
    "name": "ipython",
    "version": 3
   },
   "file_extension": ".py",
   "mimetype": "text/x-python",
   "name": "python",
   "nbconvert_exporter": "python",
   "pygments_lexer": "ipython3",
   "version": "3.10.5"
  }
 },
 "nbformat": 4,
 "nbformat_minor": 5
}
